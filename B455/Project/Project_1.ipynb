{
  "nbformat": 4,
  "nbformat_minor": 0,
  "metadata": {
    "colab": {
      "name": "Project 1.ipynb",
      "version": "0.3.2",
      "provenance": []
    },
    "kernelspec": {
      "name": "python3",
      "display_name": "Python 3"
    }
  },
  "cells": [
    {
      "metadata": {
        "id": "HYucytSdKxr1",
        "colab_type": "code",
        "outputId": "6906c271-e9f3-4093-93ae-a3d4edb74bf5",
        "colab": {
          "base_uri": "https://localhost:8080/",
          "height": 343
        }
      },
      "cell_type": "code",
      "source": [
        "# Yuheng Lin\n",
        "# CSCI-B455-10658\n",
        "# 2019/02/17\n",
        "# Project 1\n",
        "\n",
        "import pandas as pd\n",
        "from sklearn.model_selection import KFold\n",
        "from sklearn.model_selection import train_test_split\n",
        "from sklearn.preprocessing import StandardScaler\n",
        "from sklearn.neural_network import MLPClassifier\n",
        "from sklearn.metrics import classification_report\n",
        "from sklearn.model_selection import cross_val_score\n",
        "\n",
        "# First read the data\n",
        "wine = pd.read_csv('https://archive.ics.uci.edu/ml/machine-learning-databases/wine/wine.data',\n",
        "                   names=[\"Class\", \"Alcohol\", \"Malic acid\", \"Ash\", \"Alcalinity of ash\", \"Magnesium\", \n",
        "                          \"Total phenols\",\"Flavanoids\", \"Nonflavanoid phenols\", \"Proanthocyanins\", \n",
        "                          \"Color intensity\",\"Hue\", \"OD280/OD315\", \"Proline\"])\n",
        "\n",
        "# Set inputs and outputs for training and testing\n",
        "inputs = wine.drop('Class', axis=1)\n",
        "outputs = wine['Class']\n",
        "\n",
        "\n",
        "\n",
        "# Randomly select train and test inputs and outputs\n",
        "inputs_train, inputs_test, outputs_train, outputs_test = train_test_split(inputs, outputs)\n",
        "\n",
        "# Normalization for our data\n",
        "scaler = StandardScaler()\n",
        "scaler.fit(inputs_train)\n",
        "inputs_train = scaler.transform(inputs_train)\n",
        "inputs_test = scaler.transform(inputs_test)\n",
        "\n",
        "# Train the model with 3 hidden layer with 1000 max iterations\n",
        "wine_mlp = MLPClassifier(hidden_layer_sizes=(13, 13, 13), max_iter=1000)\n",
        "# Fit the train data to the model\n",
        "wine_mlp.fit(inputs_train, outputs_train)\n",
        "\n",
        "# Predictions: use our trained mlp model test with test data\n",
        "prediction = wine_mlp.predict(inputs_test)\n",
        "\n",
        "# Check the accuracy of our prediction 1 accuracy\n",
        "print(classification_report(outputs_test,prediction))\n",
        "\n",
        "# Cross Validation prediction 2 accuracy\n",
        "accuracy2 = cross_val_score(wine_mlp, inputs, outputs, cv=5)\n",
        "print(accuracy2)"
      ],
      "execution_count": 6,
      "outputs": [
        {
          "output_type": "stream",
          "text": [
            "/usr/local/lib/python3.6/dist-packages/sklearn/preprocessing/data.py:625: DataConversionWarning: Data with input dtype int64, float64 were all converted to float64 by StandardScaler.\n",
            "  return self.partial_fit(X, y)\n",
            "/usr/local/lib/python3.6/dist-packages/ipykernel_launcher.py:27: DataConversionWarning: Data with input dtype int64, float64 were all converted to float64 by StandardScaler.\n",
            "/usr/local/lib/python3.6/dist-packages/ipykernel_launcher.py:28: DataConversionWarning: Data with input dtype int64, float64 were all converted to float64 by StandardScaler.\n"
          ],
          "name": "stderr"
        },
        {
          "output_type": "stream",
          "text": [
            "              precision    recall  f1-score   support\n",
            "\n",
            "           1       1.00      0.87      0.93        15\n",
            "           2       0.89      1.00      0.94        16\n",
            "           3       1.00      1.00      1.00        14\n",
            "\n",
            "   micro avg       0.96      0.96      0.96        45\n",
            "   macro avg       0.96      0.96      0.96        45\n",
            "weighted avg       0.96      0.96      0.96        45\n",
            "\n",
            "[0.83783784 0.94444444 0.33333333 0.91428571 0.41176471]\n"
          ],
          "name": "stdout"
        },
        {
          "output_type": "stream",
          "text": [
            "/usr/local/lib/python3.6/dist-packages/sklearn/neural_network/multilayer_perceptron.py:562: ConvergenceWarning: Stochastic Optimizer: Maximum iterations (1000) reached and the optimization hasn't converged yet.\n",
            "  % self.max_iter, ConvergenceWarning)\n"
          ],
          "name": "stderr"
        }
      ]
    }
  ]
}